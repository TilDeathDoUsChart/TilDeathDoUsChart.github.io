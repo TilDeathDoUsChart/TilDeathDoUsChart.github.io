{
 "cells": [
  {
   "cell_type": "code",
   "execution_count": 1,
   "metadata": {
    "collapsed": true
   },
   "outputs": [],
   "source": [
    "import pandas as pd\n",
    "from sklearn import linear_model\n",
    "from sklearn.model_selection import train_test_split\n",
    "from sklearn.linear_model import LinearRegression"
   ]
  },
  {
   "cell_type": "code",
   "execution_count": 2,
   "metadata": {
    "collapsed": true
   },
   "outputs": [],
   "source": [
    "dataTrain = pd.read_csv(\"select_var_LCI.csv\")\n",
    "#dataTest = pd.read_csv(\"compiled.csv\")\n",
    "\n",
    "#dataTrain.head()"
   ]
  },
  {
   "cell_type": "code",
   "execution_count": 3,
   "metadata": {},
   "outputs": [
    {
     "name": "stdout",
     "output_type": "stream",
     "text": [
      "[[ 1.58097072]\n",
      " [ 2.51426408]\n",
      " [ 2.30522436]\n",
      " ..., \n",
      " [ 3.58432213]\n",
      " [ 2.83021472]\n",
      " [ 2.52591475]]\n"
     ]
    }
   ],
   "source": [
    "y = dataTrain[\"LCI\"].values.reshape(-1,1)\n",
    "X = dataTrain[['R3500900', 'E7013407', 'S1542000', 'E8013403', 'R1487700', 'R2602100', 'S3594800', 'T6216501', 'S0921200', 'R0070700']]#.values.reshape(-1,11)\n",
    "#make training data\n",
    "X_train, X_test, y_train, y_test = train_test_split(X, y,random_state =42)\n",
    "#model\n",
    "model = LinearRegression()\n",
    "model.fit(X, y)\n",
    "predicted = model.predict(X_test)\n",
    "#mse = mean_squared_error(y_test, predicted)\n",
    "#r2 = r2_score(y_test, predicted)\n",
    "            \n",
    "print(predicted)"
   ]
  },
  {
   "cell_type": "code",
   "execution_count": 4,
   "metadata": {},
   "outputs": [
    {
     "name": "stdout",
     "output_type": "stream",
     "text": [
      "intercept 0.982903140149\n",
      "R3500900 0.625952156134\n",
      "E7013407 0.433238195882\n",
      "S1542000 0.0944540254272\n",
      "E8013403 0.00695764143686\n",
      "R1487700 0.0794426357405\n",
      "R2602100 0.149599386981\n",
      "S3594800 0.0177590900125\n",
      "T6216501 0.0153368428256\n",
      "S0921200 -0.26999461452\n",
      "R0070700 0.114337295203\n"
     ]
    }
   ],
   "source": [
    "print('intercept',model.intercept_[0])\n",
    "for i,coef in enumerate(model.coef_[0]):\n",
    "    print(X.columns[i],coef)"
   ]
  },
  {
   "cell_type": "code",
   "execution_count": null,
   "metadata": {
    "collapsed": true
   },
   "outputs": [],
   "source": []
  }
 ],
 "metadata": {
  "kernelspec": {
   "display_name": "Python 3",
   "language": "python",
   "name": "python3"
  },
  "language_info": {
   "codemirror_mode": {
    "name": "ipython",
    "version": 3
   },
   "file_extension": ".py",
   "mimetype": "text/x-python",
   "name": "python",
   "nbconvert_exporter": "python",
   "pygments_lexer": "ipython3",
   "version": "3.6.3"
  }
 },
 "nbformat": 4,
 "nbformat_minor": 2
}
